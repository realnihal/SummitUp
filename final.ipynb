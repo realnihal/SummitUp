{
 "cells": [
  {
   "cell_type": "markdown",
   "metadata": {},
   "source": [
    "## Importing Libraries"
   ]
  },
  {
   "cell_type": "code",
   "execution_count": 1,
   "metadata": {},
   "outputs": [],
   "source": [
    "import os\n",
    "import pickle\n",
    "import warnings\n",
    "import librosa\n",
    "import numpy as np\n",
    "import pandas as pd\n",
    "from sklearn.cluster import AgglomerativeClustering\n",
    "from sklearn.preprocessing import StandardScaler, normalize\n",
    "from sklearn.mixture import *\n",
    "from matplotlib import pyplot as plt\n",
    "import numpy as np"
   ]
  },
  {
   "cell_type": "code",
   "execution_count": 2,
   "metadata": {},
   "outputs": [],
   "source": [
    "from pydrive.drive import GoogleDrive\n",
    "from pydrive.auth import GoogleAuth\n",
    "import os"
   ]
  },
  {
   "cell_type": "code",
   "execution_count": 3,
   "metadata": {},
   "outputs": [
    {
     "name": "stdout",
     "output_type": "stream",
     "text": [
      "output.mp3 does not exist or cannot be deleted.\n",
      "output2.mp3 does not exist or cannot be deleted.\n",
      "output.wav has been deleted.\n"
     ]
    }
   ],
   "source": [
    "# Replace with the path to the MP3 file you want to delete\n",
    "mp3_file = \"output.mp3\"\n",
    "\n",
    "# Check if the file exists before attempting to delete it\n",
    "if os.path.exists(mp3_file):\n",
    "    os.remove(mp3_file)\n",
    "    print(f\"{mp3_file} has been deleted.\")\n",
    "else:\n",
    "    print(f\"{mp3_file} does not exist or cannot be deleted.\")\n",
    "    # Replace with the path to the MP3 file you want to delete\n",
    "mp3_file = \"output2.mp3\"\n",
    "\n",
    "# Check if the file exists before attempting to delete it\n",
    "if os.path.exists(mp3_file):\n",
    "    os.remove(mp3_file)\n",
    "    print(f\"{mp3_file} has been deleted.\")\n",
    "else:\n",
    "    print(f\"{mp3_file} does not exist or cannot be deleted.\")\n",
    "    # Replace with the path to the MP3 file you want to delete\n",
    "mp3_file = \"output.wav\"\n",
    "\n",
    "# Check if the file exists before attempting to delete it\n",
    "if os.path.exists(mp3_file):\n",
    "    os.remove(mp3_file)\n",
    "    print(f\"{mp3_file} has been deleted.\")\n",
    "else:\n",
    "    print(f\"{mp3_file} does not exist or cannot be deleted.\")"
   ]
  },
  {
   "cell_type": "code",
   "execution_count": 4,
   "metadata": {},
   "outputs": [],
   "source": [
    "from google.oauth2 import service_account\n",
    "from googleapiclient.discovery import build\n",
    "from googleapiclient.http import MediaIoBaseDownload\n",
    "import io\n",
    "\n",
    "# Replace with your own values\n",
    "CREDENTIALS_FILE = 'Curious Arch.json'\n",
    "FILE_ID = 'FILEID'\n",
    "OUTPUT_MP3_FILE = 'output.mp3'\n",
    "\n",
    "# Authenticate using service account credentials\n",
    "credentials = service_account.Credentials.from_service_account_file(CREDENTIALS_FILE, scopes=['https://www.googleapis.com/auth/drive.readonly'])\n",
    "drive_service = build('drive', 'v3', credentials=credentials)\n",
    "\n",
    "# Download the MP4 file\n",
    "request = drive_service.files().get_media(fileId=FILE_ID)\n",
    "fh = io.FileIO(OUTPUT_MP3_FILE, 'wb')\n",
    "downloader = MediaIoBaseDownload(fh, request)\n",
    "\n",
    "done = False\n",
    "while not done:\n",
    "    status, done = downloader.next_chunk()\n",
    "    print(f\"Download {int(status.progress() * 100)}%\")\n",
    "\n",
    "print(\"MP4 downloaded successfully\")\n",
    "\n",
    "import subprocess\n",
    "\n",
    "input_file = OUTPUT_MP3_FILE\n",
    "output_file = \"output2.mp3\"\n",
    "\n",
    "# Run FFmpeg to convert the input MP4 to MP3\n",
    "ffmpeg_command = f'ffmpeg -i {input_file} -vn -ar 44100 -ac 2 -ab 192k -f mp3 {output_file}'\n",
    "subprocess.call(ffmpeg_command, shell=True)\n",
    "\n",
    "print(\"MP3 conversion complete\")\n"
   ]
  },
  {
   "cell_type": "markdown",
   "metadata": {},
   "source": [
    "## Defining segment length frame rate and bit rate "
   ]
  },
  {
   "cell_type": "code",
   "execution_count": null,
   "metadata": {},
   "outputs": [
    {
     "name": "stdout",
     "output_type": "stream",
     "text": [
      "Conversion from MP3 to WAV completed: output.wav\n",
      "output2.mp3 has been deleted.\n",
      "output.mp3 has been deleted.\n"
     ]
    }
   ],
   "source": [
    "from pydub import AudioSegment\n",
    "\n",
    "# Replace with the path to your input MP3 file\n",
    "mp3_file = \"output2.mp3\"\n",
    "\n",
    "# Load the MP3 file\n",
    "audio = AudioSegment.from_mp3(mp3_file)\n",
    "\n",
    "# Specify the output WAV file\n",
    "wav_file = \"output.wav\"\n",
    "\n",
    "# Export the audio as WAV\n",
    "audio.export(wav_file, format=\"wav\")\n",
    "\n",
    "print(f\"Conversion from MP3 to WAV completed: {wav_file}\")\n",
    "\n",
    "# Replace with the path to the MP3 file you want to delete\n",
    "mp3_file = \"output2.mp3\"\n",
    "\n",
    "# Check if the file exists before attempting to delete it\n",
    "if os.path.exists(mp3_file):\n",
    "    os.remove(mp3_file)\n",
    "    print(f\"{mp3_file} has been deleted.\")\n",
    "else:\n",
    "    print(f\"{mp3_file} does not exist or cannot be deleted.\")\n",
    "\n",
    "mp3_file = \"output.mp3\"\n",
    "\n",
    "# Check if the file exists before attempting to delete it\n",
    "if os.path.exists(mp3_file):\n",
    "    os.remove(mp3_file)\n",
    "    print(f\"{mp3_file} has been deleted.\")\n",
    "else:\n",
    "    print(f\"{mp3_file} does not exist or cannot be deleted.\")"
   ]
  },
  {
   "cell_type": "code",
   "execution_count": null,
   "metadata": {},
   "outputs": [],
   "source": [
    "segLen,frameRate,numMix = 3,50,128"
   ]
  },
  {
   "cell_type": "markdown",
   "metadata": {},
   "source": [
    "## Function for Voice Activity Detection"
   ]
  },
  {
   "cell_type": "code",
   "execution_count": null,
   "metadata": {},
   "outputs": [],
   "source": [
    "def VoiceActivityDetection(wavData, frameRate):\n",
    "    # uses the librosa library to compute short-term energy\n",
    "    ste = librosa.feature.rms(y=wavData,hop_length=int(16000/frameRate)).T\n",
    "    thresh = 0.1*(np.percentile(ste,97.5) + 9*np.percentile(ste,2.5))    # Trim 5% off and set threshold as 0.1x of the ste range\n",
    "    return (ste>thresh).astype('bool')"
   ]
  },
  {
   "cell_type": "code",
   "execution_count": null,
   "metadata": {},
   "outputs": [],
   "source": [
    "wavFile=\"output.wav\""
   ]
  },
  {
   "cell_type": "code",
   "execution_count": null,
   "metadata": {},
   "outputs": [
    {
     "name": "stdout",
     "output_type": "stream",
     "text": [
      "CPU times: user 900 ms, sys: 65 ms, total: 965 ms\n",
      "Wall time: 965 ms\n"
     ]
    }
   ],
   "source": [
    "wavData,_ = librosa.load(wavFile,sr=16000)\n",
    "%time vad=VoiceActivityDetection(wavData,frameRate)"
   ]
  },
  {
   "cell_type": "code",
   "execution_count": null,
   "metadata": {},
   "outputs": [],
   "source": [
    "mfcc = librosa.feature.mfcc(y=wavData, sr=16000, n_mfcc=20,hop_length=int(16000/frameRate)).T\n",
    "vad = np.reshape(vad,(len(vad),))\n",
    "if mfcc.shape[0] > vad.shape[0]:\n",
    "    vad = np.hstack((vad,np.zeros(mfcc.shape[0] - vad.shape[0]).astype('bool'))).astype('bool')\n",
    "elif mfcc.shape[0] < vad.shape[0]:\n",
    "    vad = vad[:mfcc.shape[0]]\n",
    "mfcc = mfcc[vad,:];"
   ]
  },
  {
   "cell_type": "markdown",
   "metadata": {},
   "source": [
    "## N_Component"
   ]
  },
  {
   "cell_type": "code",
   "execution_count": null,
   "metadata": {},
   "outputs": [],
   "source": [
    "# n_components = np.arange(1, 25)\n",
    "# models = [GaussianMixture(n, covariance_type='full', random_state=0).fit(mfcc)\n",
    "#           for n in n_components]"
   ]
  },
  {
   "cell_type": "code",
   "execution_count": null,
   "metadata": {},
   "outputs": [
    {
     "data": {
      "image/png": "[encoded data removed]",
      "text/plain": [
       "<Figure size 1500x1000 with 1 Axes>"
      ]
     },
     "metadata": {},
     "output_type": "display_data"
    }
   ],
   "source": [
    "# plt.figure(figsize=(15, 10))\n",
    "# plt.plot(n_components, [m.bic(mfcc) for m in models], label='BIC')\n",
    "# plt.plot(n_components, [m.aic(mfcc) for m in models], label='AIC')\n",
    "# plt.legend(loc='best')\n",
    "# plt.xlabel('GMM n_components for an audio file');"
   ]
  },
  {
   "cell_type": "markdown",
   "metadata": {},
   "source": [
    "## GMM Training"
   ]
  },
  {
   "cell_type": "code",
   "execution_count": null,
   "metadata": {},
   "outputs": [],
   "source": [
    "def trainGMM(wavFile, frameRate, segLen, vad, numMix):\n",
    "    wavData,_ = librosa.load(wavFile,sr=16000)\n",
    "    mfcc = librosa.feature.mfcc(y=wavData, sr=16000, n_mfcc=20,hop_length=int(16000/frameRate)).T\n",
    "    vad = np.reshape(vad,(len(vad),))\n",
    "    if mfcc.shape[0] > vad.shape[0]:\n",
    "        vad = np.hstack((vad,np.zeros(mfcc.shape[0] - vad.shape[0]).astype('bool'))).astype('bool')\n",
    "    elif mfcc.shape[0] < vad.shape[0]:\n",
    "        vad = vad[:mfcc.shape[0]]\n",
    "    mfcc = mfcc[vad,:];\n",
    "    print(\"Training GMM..\")\n",
    "    GMM = GaussianMixture(n_components=numMix,covariance_type='diag').fit(mfcc)\n",
    "    var_floor = 1e-5\n",
    "    segLikes = []\n",
    "    segSize = frameRate*segLen\n",
    "    for segI in range(int(np.ceil(float(mfcc.shape[0])/(frameRate*segLen)))):\n",
    "        startI = segI*segSize\n",
    "        endI = (segI+1)*segSize\n",
    "        if endI > mfcc.shape[0]:\n",
    "            endI = mfcc.shape[0]-1\n",
    "        if endI==startI:    # Reached the end of file\n",
    "            break\n",
    "        seg = mfcc[startI:endI,:]\n",
    "        compLikes = np.sum(GMM.predict_proba(seg),0)\n",
    "        segLikes.append(compLikes/seg.shape[0])\n",
    "    print(\"Training Done\")\n",
    "\n",
    "    return np.asarray(segLikes)"
   ]
  },
  {
   "cell_type": "code",
   "execution_count": null,
   "metadata": {},
   "outputs": [
    {
     "name": "stdout",
     "output_type": "stream",
     "text": [
      "Training GMM..\n",
      "Training Done\n"
     ]
    }
   ],
   "source": [
    "clusterset = trainGMM(\n",
    "    wavFile, frameRate, segLen, vad, numMix\n",
    ")"
   ]
  },
  {
   "cell_type": "markdown",
   "metadata": {},
   "source": [
    "## Clustering Analysis"
   ]
  },
  {
   "cell_type": "code",
   "execution_count": null,
   "metadata": {},
   "outputs": [],
   "source": [
    "scaler = StandardScaler()\n",
    "X_scaled = scaler.fit_transform(clusterset)  \n",
    "# Normalizing the data so that the data approximately \n",
    "# follows a Gaussian distribution\n",
    "X_normalized = normalize(X_scaled)"
   ]
  },
  {
   "cell_type": "code",
   "execution_count": null,
   "metadata": {},
   "outputs": [
    {
     "name": "stderr",
     "output_type": "stream",
     "text": [
      "/home/ubuntu/vispr/env/lib/python3.10/site-packages/sklearn/cluster/_agglomerative.py:1006: FutureWarning: Attribute `affinity` was deprecated in version 1.2 and will be removed in 1.4. Use `metric` instead\n",
      "  warnings.warn(\n"
     ]
    }
   ],
   "source": [
    "\n",
    "cluster = AgglomerativeClustering(n_clusters=2, affinity='euclidean', linkage='ward') \n",
    "clust=cluster.fit_predict(X_normalized)"
   ]
  },
  {
   "cell_type": "markdown",
   "metadata": {},
   "source": [
    "## Convert Segment to Frame"
   ]
  },
  {
   "cell_type": "code",
   "execution_count": null,
   "metadata": {},
   "outputs": [],
   "source": [
    "def SegmentFrame(clust, segLen, frameRate, numFrames):\n",
    "    frameClust = np.zeros(numFrames)\n",
    "    for clustI in range(len(clust)-1):\n",
    "        frameClust[clustI*segLen*frameRate:(clustI+1)*segLen*frameRate] = clust[clustI]*np.ones(segLen*frameRate)\n",
    "    frameClust[(clustI+1)*segLen*frameRate:] = clust[clustI+1]*np.ones(numFrames-(clustI+1)*segLen*frameRate)\n",
    "    return frameClust"
   ]
  },
  {
   "cell_type": "code",
   "execution_count": null,
   "metadata": {},
   "outputs": [],
   "source": [
    "frameClust = SegmentFrame(clust, segLen, frameRate, mfcc.shape[0])\n"
   ]
  },
  {
   "cell_type": "markdown",
   "metadata": {},
   "source": [
    "## Adding Speaker Labels"
   ]
  },
  {
   "cell_type": "code",
   "execution_count": null,
   "metadata": {},
   "outputs": [],
   "source": [
    "def speakerdiarisationdf(hyp, frameRate, wavFile):\n",
    "    audioname=[]\n",
    "    starttime=[]\n",
    "    endtime=[]\n",
    "    speakerlabel=[]\n",
    "            \n",
    "    spkrChangePoints = np.where(hyp[:-1] != hyp[1:])[0]\n",
    "    if spkrChangePoints[0]!=0 and hyp[0]!=-1:\n",
    "        spkrChangePoints = np.concatenate(([0],spkrChangePoints))\n",
    "    spkrLabels = []    \n",
    "    for spkrHomoSegI in range(len(spkrChangePoints)):\n",
    "        spkrLabels.append(hyp[spkrChangePoints[spkrHomoSegI]+1])\n",
    "    for spkrI,spkr in enumerate(spkrLabels[:-1]):\n",
    "        if spkr!=-1:\n",
    "            audioname.append(wavFile.split('/')[-1].split('.')[0]+\".wav\")\n",
    "            starttime.append((spkrChangePoints[spkrI]+1)/float(frameRate))\n",
    "            endtime.append((spkrChangePoints[spkrI+1]-spkrChangePoints[spkrI])/float(frameRate))\n",
    "            speakerlabel.append(\"Speaker \"+str(int(spkr)))\n",
    "    if spkrLabels[-1]!=-1:\n",
    "        audioname.append(wavFile.split('/')[-1].split('.')[0]+\".wav\")\n",
    "        starttime.append(spkrChangePoints[-1]/float(frameRate))\n",
    "        endtime.append((len(hyp) - spkrChangePoints[-1])/float(frameRate))\n",
    "        speakerlabel.append(\"Speaker \"+str(int(spkrLabels[-1])))\n",
    "    #\n",
    "    speakerdf=pd.DataFrame({\"Audio\":audioname,\"starttime\":starttime,\"endtime\":endtime,\"speakerlabel\":speakerlabel})\n",
    "    \n",
    "    spdatafinal=pd.DataFrame(columns=['Audio','SpeakerLabel','StartTime','EndTime'])\n",
    "    i=0\n",
    "    k=0\n",
    "    j=0\n",
    "    spfind=\"\"\n",
    "    stime=\"\"\n",
    "    etime=\"\"\n",
    "    for row in speakerdf.itertuples():\n",
    "        if(i==0):\n",
    "            spfind=row.speakerlabel\n",
    "            stime=row.starttime\n",
    "        else:\n",
    "            if(spfind==row.speakerlabel):\n",
    "                etime=row.starttime        \n",
    "            else:\n",
    "                spdatafinal.loc[k]=[wavFile.split('/')[-1].split('.')[0]+\".wav\",spfind,stime,row.starttime]\n",
    "                k=k+1\n",
    "                spfind=row.speakerlabel\n",
    "                stime=row.starttime\n",
    "        i=i+1\n",
    "    spdatafinal.loc[k]=[wavFile.split('/')[-1].split('.')[0]+\".wav\",spfind,stime,etime]\n",
    "    return spdatafinal\n",
    "    "
   ]
  },
  {
   "cell_type": "code",
   "execution_count": null,
   "metadata": {},
   "outputs": [],
   "source": [
    "pass1hyp = -1*np.ones(len(vad))\n",
    "pass1hyp[vad] = frameClust\n",
    "spkdf=speakerdiarisationdf(pass1hyp, frameRate, wavFile)\n"
   ]
  },
  {
   "cell_type": "code",
   "execution_count": null,
   "metadata": {},
   "outputs": [],
   "source": [
    "spkdf[\"TimeSeconds\"]=spkdf.EndTime-spkdf.StartTime"
   ]
  },
  {
   "cell_type": "code",
   "execution_count": null,
   "metadata": {},
   "outputs": [
    {
     "data": {
      "text/html": [
       "<div>\n",
       "<style scoped>\n",
       "    .dataframe tbody tr th:only-of-type {\n",
       "        vertical-align: middle;\n",
       "    }\n",
       "\n",
       "    .dataframe tbody tr th {\n",
       "        vertical-align: top;\n",
       "    }\n",
       "\n",
       "    .dataframe thead th {\n",
       "        text-align: right;\n",
       "    }\n",
       "</style>\n",
       "<table border=\"1\" class=\"dataframe\">\n",
       "  <thead>\n",
       "    <tr style=\"text-align: right;\">\n",
       "      <th></th>\n",
       "      <th>Audio</th>\n",
       "      <th>SpeakerLabel</th>\n",
       "      <th>StartTime</th>\n",
       "      <th>EndTime</th>\n",
       "      <th>TimeSeconds</th>\n",
       "    </tr>\n",
       "  </thead>\n",
       "  <tbody>\n",
       "    <tr>\n",
       "      <th>0</th>\n",
       "      <td>output.wav</td>\n",
       "      <td>Speaker 1</td>\n",
       "      <td>1.50</td>\n",
       "      <td>8.26</td>\n",
       "      <td>6.76</td>\n",
       "    </tr>\n",
       "    <tr>\n",
       "      <th>1</th>\n",
       "      <td>output.wav</td>\n",
       "      <td>Speaker 0</td>\n",
       "      <td>8.26</td>\n",
       "      <td>156.88</td>\n",
       "      <td>148.62</td>\n",
       "    </tr>\n",
       "    <tr>\n",
       "      <th>2</th>\n",
       "      <td>output.wav</td>\n",
       "      <td>Speaker 1</td>\n",
       "      <td>156.88</td>\n",
       "      <td>165.66</td>\n",
       "      <td>8.78</td>\n",
       "    </tr>\n",
       "    <tr>\n",
       "      <th>3</th>\n",
       "      <td>output.wav</td>\n",
       "      <td>Speaker 0</td>\n",
       "      <td>165.66</td>\n",
       "      <td>216.84</td>\n",
       "      <td>51.18</td>\n",
       "    </tr>\n",
       "    <tr>\n",
       "      <th>4</th>\n",
       "      <td>output.wav</td>\n",
       "      <td>Speaker 1</td>\n",
       "      <td>216.84</td>\n",
       "      <td>225.30</td>\n",
       "      <td>8.46</td>\n",
       "    </tr>\n",
       "    <tr>\n",
       "      <th>5</th>\n",
       "      <td>output.wav</td>\n",
       "      <td>Speaker 0</td>\n",
       "      <td>225.30</td>\n",
       "      <td>232.86</td>\n",
       "      <td>7.56</td>\n",
       "    </tr>\n",
       "    <tr>\n",
       "      <th>6</th>\n",
       "      <td>output.wav</td>\n",
       "      <td>Speaker 1</td>\n",
       "      <td>232.86</td>\n",
       "      <td>241.24</td>\n",
       "      <td>8.38</td>\n",
       "    </tr>\n",
       "    <tr>\n",
       "      <th>7</th>\n",
       "      <td>output.wav</td>\n",
       "      <td>Speaker 0</td>\n",
       "      <td>241.24</td>\n",
       "      <td>310.68</td>\n",
       "      <td>69.44</td>\n",
       "    </tr>\n",
       "    <tr>\n",
       "      <th>8</th>\n",
       "      <td>output.wav</td>\n",
       "      <td>Speaker 1</td>\n",
       "      <td>310.68</td>\n",
       "      <td>315.20</td>\n",
       "      <td>4.52</td>\n",
       "    </tr>\n",
       "    <tr>\n",
       "      <th>9</th>\n",
       "      <td>output.wav</td>\n",
       "      <td>Speaker 0</td>\n",
       "      <td>315.20</td>\n",
       "      <td>393.58</td>\n",
       "      <td>78.38</td>\n",
       "    </tr>\n",
       "    <tr>\n",
       "      <th>10</th>\n",
       "      <td>output.wav</td>\n",
       "      <td>Speaker 1</td>\n",
       "      <td>393.58</td>\n",
       "      <td>397.54</td>\n",
       "      <td>3.96</td>\n",
       "    </tr>\n",
       "    <tr>\n",
       "      <th>11</th>\n",
       "      <td>output.wav</td>\n",
       "      <td>Speaker 0</td>\n",
       "      <td>397.54</td>\n",
       "      <td>426.78</td>\n",
       "      <td>29.24</td>\n",
       "    </tr>\n",
       "    <tr>\n",
       "      <th>12</th>\n",
       "      <td>output.wav</td>\n",
       "      <td>Speaker 1</td>\n",
       "      <td>426.78</td>\n",
       "      <td>467.50</td>\n",
       "      <td>40.72</td>\n",
       "    </tr>\n",
       "    <tr>\n",
       "      <th>13</th>\n",
       "      <td>output.wav</td>\n",
       "      <td>Speaker 0</td>\n",
       "      <td>467.50</td>\n",
       "      <td>475.32</td>\n",
       "      <td>7.82</td>\n",
       "    </tr>\n",
       "    <tr>\n",
       "      <th>14</th>\n",
       "      <td>output.wav</td>\n",
       "      <td>Speaker 1</td>\n",
       "      <td>475.32</td>\n",
       "      <td>485.72</td>\n",
       "      <td>10.40</td>\n",
       "    </tr>\n",
       "    <tr>\n",
       "      <th>15</th>\n",
       "      <td>output.wav</td>\n",
       "      <td>Speaker 0</td>\n",
       "      <td>485.72</td>\n",
       "      <td>489.28</td>\n",
       "      <td>3.56</td>\n",
       "    </tr>\n",
       "    <tr>\n",
       "      <th>16</th>\n",
       "      <td>output.wav</td>\n",
       "      <td>Speaker 1</td>\n",
       "      <td>489.28</td>\n",
       "      <td>517.24</td>\n",
       "      <td>27.96</td>\n",
       "    </tr>\n",
       "    <tr>\n",
       "      <th>17</th>\n",
       "      <td>output.wav</td>\n",
       "      <td>Speaker 0</td>\n",
       "      <td>517.24</td>\n",
       "      <td>522.26</td>\n",
       "      <td>5.02</td>\n",
       "    </tr>\n",
       "    <tr>\n",
       "      <th>18</th>\n",
       "      <td>output.wav</td>\n",
       "      <td>Speaker 1</td>\n",
       "      <td>522.26</td>\n",
       "      <td>538.68</td>\n",
       "      <td>16.42</td>\n",
       "    </tr>\n",
       "    <tr>\n",
       "      <th>19</th>\n",
       "      <td>output.wav</td>\n",
       "      <td>Speaker 0</td>\n",
       "      <td>538.68</td>\n",
       "      <td>542.18</td>\n",
       "      <td>3.50</td>\n",
       "    </tr>\n",
       "    <tr>\n",
       "      <th>20</th>\n",
       "      <td>output.wav</td>\n",
       "      <td>Speaker 1</td>\n",
       "      <td>542.18</td>\n",
       "      <td>556.36</td>\n",
       "      <td>14.18</td>\n",
       "    </tr>\n",
       "    <tr>\n",
       "      <th>21</th>\n",
       "      <td>output.wav</td>\n",
       "      <td>Speaker 0</td>\n",
       "      <td>556.36</td>\n",
       "      <td>570.62</td>\n",
       "      <td>14.26</td>\n",
       "    </tr>\n",
       "    <tr>\n",
       "      <th>22</th>\n",
       "      <td>output.wav</td>\n",
       "      <td>Speaker 1</td>\n",
       "      <td>570.62</td>\n",
       "      <td>578.46</td>\n",
       "      <td>7.84</td>\n",
       "    </tr>\n",
       "    <tr>\n",
       "      <th>23</th>\n",
       "      <td>output.wav</td>\n",
       "      <td>Speaker 0</td>\n",
       "      <td>578.46</td>\n",
       "      <td>592.58</td>\n",
       "      <td>14.12</td>\n",
       "    </tr>\n",
       "    <tr>\n",
       "      <th>24</th>\n",
       "      <td>output.wav</td>\n",
       "      <td>Speaker 1</td>\n",
       "      <td>592.58</td>\n",
       "      <td>603.36</td>\n",
       "      <td>10.78</td>\n",
       "    </tr>\n",
       "  </tbody>\n",
       "</table>\n",
       "</div>"
      ],
      "text/plain": [
       "         Audio SpeakerLabel  StartTime  EndTime  TimeSeconds\n",
       "0   output.wav    Speaker 1       1.50     8.26         6.76\n",
       "1   output.wav    Speaker 0       8.26   156.88       148.62\n",
       "2   output.wav    Speaker 1     156.88   165.66         8.78\n",
       "3   output.wav    Speaker 0     165.66   216.84        51.18\n",
       "4   output.wav    Speaker 1     216.84   225.30         8.46\n",
       "5   output.wav    Speaker 0     225.30   232.86         7.56\n",
       "6   output.wav    Speaker 1     232.86   241.24         8.38\n",
       "7   output.wav    Speaker 0     241.24   310.68        69.44\n",
       "8   output.wav    Speaker 1     310.68   315.20         4.52\n",
       "9   output.wav    Speaker 0     315.20   393.58        78.38\n",
       "10  output.wav    Speaker 1     393.58   397.54         3.96\n",
       "11  output.wav    Speaker 0     397.54   426.78        29.24\n",
       "12  output.wav    Speaker 1     426.78   467.50        40.72\n",
       "13  output.wav    Speaker 0     467.50   475.32         7.82\n",
       "14  output.wav    Speaker 1     475.32   485.72        10.40\n",
       "15  output.wav    Speaker 0     485.72   489.28         3.56\n",
       "16  output.wav    Speaker 1     489.28   517.24        27.96\n",
       "17  output.wav    Speaker 0     517.24   522.26         5.02\n",
       "18  output.wav    Speaker 1     522.26   538.68        16.42\n",
       "19  output.wav    Speaker 0     538.68   542.18         3.50\n",
       "20  output.wav    Speaker 1     542.18   556.36        14.18\n",
       "21  output.wav    Speaker 0     556.36   570.62        14.26\n",
       "22  output.wav    Speaker 1     570.62   578.46         7.84\n",
       "23  output.wav    Speaker 0     578.46   592.58        14.12\n",
       "24  output.wav    Speaker 1     592.58   603.36        10.78"
      ]
     },
     "execution_count": 22,
     "metadata": {},
     "output_type": "execute_result"
    }
   ],
   "source": [
    "spkdf"
   ]
  },
  {
   "cell_type": "code",
   "execution_count": null,
   "metadata": {},
   "outputs": [
    {
     "data": {
      "text/plain": [
       "['config.cfg',\n",
       " 'Speaker Diarization.ipynb',\n",
       " 'cd',\n",
       " '.git',\n",
       " 'Speaker Diarisation.wav',\n",
       " 'new.ipynb',\n",
       " 'Speaker Diarization Demo.wav',\n",
       " '__pycache__',\n",
       " 'requirements.txt',\n",
       " 'python',\n",
       " 'README.md',\n",
       " 'pytorch_model.bin',\n",
       " 'my_namespace.MyTask.v1_config.cfg',\n",
       " 'video',\n",
       " 'notebook.ipynb',\n",
       " 'Curious Arch.json',\n",
       " '.DS_Store',\n",
       " 'config.yaml',\n",
       " 'env',\n",
       " 'convert.py',\n",
       " 'ter.mp4',\n",
       " '.gitignore',\n",
       " 'Resemblyzer',\n",
       " 'speakers',\n",
       " 'mashup.mp3',\n",
       " 'explore.ipynb',\n",
       " 'Speaker Diarization Demo.mp3',\n",
       " 'functions.py',\n",
       " 'output.wav']"
      ]
     },
     "execution_count": 23,
     "metadata": {},
     "output_type": "execute_result"
    }
   ],
   "source": [
    "os.listdir()"
   ]
  },
  {
   "cell_type": "code",
   "execution_count": null,
   "metadata": {},
   "outputs": [
    {
     "name": "stdout",
     "output_type": "stream",
     "text": [
      "MoviePy - Writing audio in parts/part_0.mp3\n"
     ]
    },
    {
     "name": "stderr",
     "output_type": "stream",
     "text": [
      "                                                                    \r"
     ]
    },
    {
     "name": "stdout",
     "output_type": "stream",
     "text": [
      "MoviePy - Done.\n",
      "MoviePy - Writing audio in parts/part_1.mp3\n"
     ]
    },
    {
     "name": "stderr",
     "output_type": "stream",
     "text": [
      "                                                                      \r"
     ]
    },
    {
     "name": "stdout",
     "output_type": "stream",
     "text": [
      "MoviePy - Done.\n",
      "MoviePy - Writing audio in parts/part_2.mp3\n"
     ]
    },
    {
     "name": "stderr",
     "output_type": "stream",
     "text": [
      "                                                                    \r"
     ]
    },
    {
     "name": "stdout",
     "output_type": "stream",
     "text": [
      "MoviePy - Done.\n",
      "MoviePy - Writing audio in parts/part_3.mp3\n"
     ]
    },
    {
     "name": "stderr",
     "output_type": "stream",
     "text": [
      "                                                                      \r"
     ]
    },
    {
     "name": "stdout",
     "output_type": "stream",
     "text": [
      "MoviePy - Done.\n",
      "MoviePy - Writing audio in parts/part_4.mp3\n"
     ]
    },
    {
     "name": "stderr",
     "output_type": "stream",
     "text": [
      "                                                                    \r"
     ]
    },
    {
     "name": "stdout",
     "output_type": "stream",
     "text": [
      "MoviePy - Done.\n",
      "MoviePy - Writing audio in parts/part_5.mp3\n"
     ]
    },
    {
     "name": "stderr",
     "output_type": "stream",
     "text": [
      "                                                                    \r"
     ]
    },
    {
     "name": "stdout",
     "output_type": "stream",
     "text": [
      "MoviePy - Done.\n",
      "MoviePy - Writing audio in parts/part_6.mp3\n"
     ]
    },
    {
     "name": "stderr",
     "output_type": "stream",
     "text": [
      "                                                                    \r"
     ]
    },
    {
     "name": "stdout",
     "output_type": "stream",
     "text": [
      "MoviePy - Done.\n",
      "MoviePy - Writing audio in parts/part_7.mp3\n"
     ]
    },
    {
     "name": "stderr",
     "output_type": "stream",
     "text": [
      "                                                                      \r"
     ]
    },
    {
     "name": "stdout",
     "output_type": "stream",
     "text": [
      "MoviePy - Done.\n",
      "MoviePy - Writing audio in parts/part_8.mp3\n"
     ]
    },
    {
     "name": "stderr",
     "output_type": "stream",
     "text": [
      "                                                        \r"
     ]
    },
    {
     "name": "stdout",
     "output_type": "stream",
     "text": [
      "MoviePy - Done.\n",
      "MoviePy - Writing audio in parts/part_9.mp3\n"
     ]
    },
    {
     "name": "stderr",
     "output_type": "stream",
     "text": [
      "                                                                      \r"
     ]
    },
    {
     "name": "stdout",
     "output_type": "stream",
     "text": [
      "MoviePy - Done.\n",
      "MoviePy - Writing audio in parts/part_10.mp3\n"
     ]
    },
    {
     "name": "stderr",
     "output_type": "stream",
     "text": [
      "                                                       \r"
     ]
    },
    {
     "name": "stdout",
     "output_type": "stream",
     "text": [
      "MoviePy - Done.\n",
      "MoviePy - Writing audio in parts/part_11.mp3\n"
     ]
    },
    {
     "name": "stderr",
     "output_type": "stream",
     "text": [
      "                                                                    \r"
     ]
    },
    {
     "name": "stdout",
     "output_type": "stream",
     "text": [
      "MoviePy - Done.\n",
      "MoviePy - Writing audio in parts/part_12.mp3\n"
     ]
    },
    {
     "name": "stderr",
     "output_type": "stream",
     "text": [
      "                                                                    \r"
     ]
    },
    {
     "name": "stdout",
     "output_type": "stream",
     "text": [
      "MoviePy - Done.\n",
      "MoviePy - Writing audio in parts/part_13.mp3\n"
     ]
    },
    {
     "name": "stderr",
     "output_type": "stream",
     "text": [
      "                                                                    \r"
     ]
    },
    {
     "name": "stdout",
     "output_type": "stream",
     "text": [
      "MoviePy - Done.\n",
      "MoviePy - Writing audio in parts/part_14.mp3\n"
     ]
    },
    {
     "name": "stderr",
     "output_type": "stream",
     "text": [
      "                                                                    \r"
     ]
    },
    {
     "name": "stdout",
     "output_type": "stream",
     "text": [
      "MoviePy - Done.\n",
      "MoviePy - Writing audio in parts/part_15.mp3\n"
     ]
    },
    {
     "name": "stderr",
     "output_type": "stream",
     "text": [
      "                                                       \r"
     ]
    },
    {
     "name": "stdout",
     "output_type": "stream",
     "text": [
      "MoviePy - Done.\n",
      "MoviePy - Writing audio in parts/part_16.mp3\n"
     ]
    },
    {
     "name": "stderr",
     "output_type": "stream",
     "text": [
      "                                                                    \r"
     ]
    },
    {
     "name": "stdout",
     "output_type": "stream",
     "text": [
      "MoviePy - Done.\n",
      "MoviePy - Writing audio in parts/part_17.mp3\n"
     ]
    },
    {
     "name": "stderr",
     "output_type": "stream",
     "text": [
      "                                                        \r"
     ]
    },
    {
     "name": "stdout",
     "output_type": "stream",
     "text": [
      "MoviePy - Done.\n",
      "MoviePy - Writing audio in parts/part_18.mp3\n"
     ]
    },
    {
     "name": "stderr",
     "output_type": "stream",
     "text": [
      "                                                                    \r"
     ]
    },
    {
     "name": "stdout",
     "output_type": "stream",
     "text": [
      "MoviePy - Done.\n",
      "MoviePy - Writing audio in parts/part_19.mp3\n"
     ]
    },
    {
     "name": "stderr",
     "output_type": "stream",
     "text": [
      "                                                       \r"
     ]
    },
    {
     "name": "stdout",
     "output_type": "stream",
     "text": [
      "MoviePy - Done.\n",
      "MoviePy - Writing audio in parts/part_20.mp3\n"
     ]
    },
    {
     "name": "stderr",
     "output_type": "stream",
     "text": [
      "                                                                    \r"
     ]
    },
    {
     "name": "stdout",
     "output_type": "stream",
     "text": [
      "MoviePy - Done.\n",
      "MoviePy - Writing audio in parts/part_21.mp3\n"
     ]
    },
    {
     "name": "stderr",
     "output_type": "stream",
     "text": [
      "                                                                    \r"
     ]
    },
    {
     "name": "stdout",
     "output_type": "stream",
     "text": [
      "MoviePy - Done.\n",
      "MoviePy - Writing audio in parts/part_22.mp3\n"
     ]
    },
    {
     "name": "stderr",
     "output_type": "stream",
     "text": [
      "                                                                    \r"
     ]
    },
    {
     "name": "stdout",
     "output_type": "stream",
     "text": [
      "MoviePy - Done.\n",
      "MoviePy - Writing audio in parts/part_23.mp3\n"
     ]
    },
    {
     "name": "stderr",
     "output_type": "stream",
     "text": [
      "                                                                    \r"
     ]
    },
    {
     "name": "stdout",
     "output_type": "stream",
     "text": [
      "MoviePy - Done.\n",
      "MoviePy - Writing audio in parts/part_24.mp3\n"
     ]
    },
    {
     "name": "stderr",
     "output_type": "stream",
     "text": [
      "                                                                    \r"
     ]
    },
    {
     "name": "stdout",
     "output_type": "stream",
     "text": [
      "MoviePy - Done.\n"
     ]
    }
   ],
   "source": [
    "from moviepy.editor import AudioFileClip\n",
    "import os\n",
    "\n",
    "def divide_into_parts(uniq_dir, times, input_audio_file):\n",
    "    if uniq_dir not in os.listdir():\n",
    "        os.mkdir(uniq_dir)\n",
    "    try:\n",
    "        audio = AudioFileClip(input_audio_file)\n",
    "        timestamp = 0\n",
    "        parts = []\n",
    "\n",
    "        for timelength in times:\n",
    "            parts.append(audio.subclip(timestamp, timestamp + timelength))\n",
    "            timestamp += timelength\n",
    "\n",
    "        for i, fragment in enumerate(parts):\n",
    "            fragment.write_audiofile(os.path.join(uniq_dir, f'part_{i}.mp3'))\n",
    "    except Exception as e:\n",
    "        print(f\"An error occurred: {e}\")\n",
    "\n",
    "# Example usage\n",
    "input_audio_file = 'Speaker Diarisation.wav'\n",
    "uniq_dir = \"parts\"\n",
    " # Replace with the actual time durations you want\n",
    "divide_into_parts(uniq_dir, spkdf[\"TimeSeconds\"], input_audio_file)"
   ]
  },
  {
   "cell_type": "code",
   "execution_count": null,
   "metadata": {},
   "outputs": [],
   "source": [
    "import re\n",
    "import whisper\n",
    "from requests import request\n",
    "\n",
    "def transcribe(file, key,labels, model=\"base\", count=0):\n",
    "    model = whisper.load_model(model)\n",
    "    transcript = model.transcribe(os.path.join(key, file))\n",
    "    return labels[count]+ \":\" +transcript['text']\n",
    "    \n",
    "    \n",
    "def transcribe_all(uniq_dir,labels, model = 'base'):\n",
    "    #creating expresion for better speed\n",
    "    p = re.compile(r'\\d+')\n",
    "    whole_transcript = []\n",
    "    parts = os.listdir(os.path.join(uniq_dir))\n",
    "    #sorting parts list\n",
    "    parts = sorted(parts, key=lambda s: int(p.search(s).group()))\n",
    "    count = 0\n",
    "    for file in parts:\n",
    "        text = transcribe(file, uniq_dir,labels, model=model, count=count)\n",
    "        whole_transcript.append(text)\n",
    "        os.remove(os.path.join(uniq_dir, file))\n",
    "        count += 1\n",
    "    os.rmdir(os.path.join(uniq_dir))\n",
    "    whole_transcript = \" \".join(whole_transcript)\n",
    "    return whole_transcript\n",
    "\n",
    "final_transcript = transcribe_all(uniq_dir=\"parts\", labels=spkdf[\"SpeakerLabel\"])"
   ]
  },
  {
   "cell_type": "code",
   "execution_count": null,
   "metadata": {},
   "outputs": [
    {
     "data": {
      "text/plain": [
       "\"Speaker 1: Okay, I was wondering if you could tell me a little bit about the program. What exactly goes on? Speaker 0: Okay, well basically it's an intensive program designed to last four weeks. Each session is four weeks long, although we do have two sessions in 1996 that will be two weeks long. But our general four week session involves seven hours of contact each day of Spanish. It involves starting at nine o'clock in the morning with three hours of grammar instruction. And then it's followed immediately by an hour of group conversation with the same instructor, same class. But we have extensive gardens here at the Institute and so students will usually go out to a garden setting because it's a little more comfortable. And then after a break for lunch, students return and we have a complete flip of instruction in that instead of textbook and clinical type instruction, we have hands on. And we offer workshops in Mehe Backstrap leaving regional cooking of Wahaka at Don Pasnell pottery. And if we have large groups, we also offer folkloric dance. And those are two hours a day Monday through Thursday. And they're really in place not so much to teach students a craft, but they're in place to facilitate Spanish language acquisition with a hands-on project. It's our belief that using the language will give students an opportunity to have better retention. You say they use it, they feel a little bit more comfortable, the vocabulary expands and whatnot. And then the last hour is a daily intercombo hour and that's where someone from the community in Wahaka comes to the Institute. They work with one of our students, one-on-one as a conversation partner. And if the students here at the Institute were English speaking, English being their native language, then half the time would be in English, half the time would be in Spanish. And we offer included in the course our lectures, weekly lectures, and we have films and other cultural presentations. And all that is included within the same package. We also offer optional tours on the weekends, going to points of interest around Wahaka. Wahaka, I don't know if you're familiar with Wahaka, but it's really rich with archaeological sites and indigenous marketplaces and craft villages. Speaker 1: There's a lot to see. There's a program geared primarily toward beginning level of that issue. Speaker 0: No, we offer seven different levels ranging from true beginners, people who know absolutely nothing about Spanish all the way up through advanced and literature levels. So we have something for everybody. When you arrive, we would give you a placement test. It's a two-part test. The first part is written and it would test you on present tense, direct and indirect objects, goes all the way up to subjunctive and then you actually do some writing as well. And after an instructor would grade that, then they would speak with you and that would be the second portion of the test. They would ask you a lot of questions about why you're here studying Spanish, where you're from, why are you interested in Spanish in particular as opposed to some other language, have you visited other places within Mexico and whatnot. They're really zeroing in how you use the language when you're speaking. Speaker 1: And that helped them to more fine tune where they place you. Oh I see. And how many people are in each group? Maximum. Speaker 0: According to our brochures, 10, although we have never had a group of 10, average is more around 6 and it can be lower. Speaker 1: We've had groups of one before. I don't think that's a group. And how long is the program? Speaker 0: It's designed to last four weeks, but students can come by the week if they wish. We advise if they do come by the week that they try to come at the beginning of the session so they don't have instructional gaps. You know, for example, if the class is going on three weeks and then we suddenly have a student arrive at the end of the second or third week, it can be a little bit difficult and that student will enter into a class and spend in session already two or three weeks. We frequently, though, do have students who don't arrive at the beginning because their schedules don't allow them to have conformity to our schedule. And they do it. I have been a student here several times myself. I'm now the assistant director. And when I first came, I came the last two weeks of the December session and the first two weeks of the January session. And it was doable. It was difficult the last two weeks, but I did it. It was the only time I had to operate with. So it was all right. And then, of course, the January session, when I started with the rest of the group at the beginning of the session, was more easy to feel the flow of the class right away because the ground rules were there. Speaker 1: and for another thing. Uh-huh. And are you commenting on this? Speaker 0: patients there on premises or? No. We offer several options. The vast majority of residents take host family homes as the way to go when they're here in Wahaka. They pay a base price of $11 a day, and that includes a private room and full breakfast. And it may or may not include a private bath. It really depends on each family. We tell the students that it's not a hotel. It's a home. And the idea isn't so much for luxury. It's more for really communicating with people and getting to know the culture by way of the people. And the vast majority of the homes are upper middle class to lower upper class, the very nice homes and the families that we've worked with for years. If a student wishes other meals with the host family, for an additional $4 a day, the student can have Comita, which is the large midday meal. And you can eat very, very well in Wahaka on $4. But the $4 meal would be primarily for the purposes of interacting with the host family. And then there's the Saina, which is the very light, very late evening meal. That's anywhere between 7, 30, 9 o'clock at night. That's an additional $2. It can be as simple as Pando, Sai, and a cup of hot chocolate. And it's not formal. Speaker 1: I'm formal mail the way that the scene is. Would it be possible to come Speaker 0: may be vegetarian? Oh yeah we do that all the time. We're very used to it. Especially here in Wahaka, well in Mexico in general with tortillas and beans and all the wealth of fruits and vegetables that would be very simple. If students don't want to home stay and they wish to have alternative accommodations we can help with apartments and hotels and that sort of thing. They would need to send a deposit. But a lot of people when they call us they don't really speak enough. Speaker 1: They don't feel comfortable enough with their Spanish to make reservations. Are there hotels close by? Lots, yeah. Okay. The S is that you offer workshops and cooking as well. And weaving and pottery. And sometimes dance. Vocal or dance. And that's all incorporated into the program. Uh-huh. I see. And so, say I wanted to enroll in the beginning program. That would also be for six weeks, did you say? No four weeks. Four weeks, I say. Could you give me some ideas? Speaker 0: to what the price might be? Okay, the price is a $1-$50 registration fee and $400 for the session or $100 by the Speaker 1: a week or 100 by week. And do you have any more printed information on? We have a brochure. Speaker 0: Sure. Would it be possible to attend me one? Sure will. Speaker 1: Let me grab a piece of paper, hold on just one moment. Okay. Okay, my name is Richard Gannis. Good. You just got your last name? Yeah, it's G-A-N-I-S. Speaker 0: G-A-N-I-S. Right. Okay. I thought I heard an F. Speaker 1: there. Okay. Uh-huh. And my address is 16-02-HERSC Avenue H-E-A-R-S-P. HERSC Avenue in Berkeley, California. Speaker 0: I can't believe it's my grandmother lived on her stavino for years. Speaker 1: Oh really? There's now a park there, a long, long park they've been demolished. Yeah, a lovely park right there. Demolished. Her house which is too bad. Which is it? And it's 9-4-703. Okay. Yeah, I've been rid of the question of the park there. Speaker 0: Yeah, there was a railroad tracks or something that were there and I remember playing there when we visited it a couple of times when I was a child that went back for the first time in years, just about two years ago and was done to see that the house was Speaker 1: Completely gone and there was a park in this place. It's like a dog park now. They let the dogs run there. Yeah. Speaker 0: I'm going to repeat this address back to make sure that I've got it right. Okay. I've got Richard Gannis, GANIS, 1602 Hurst Avenue, AGEARST, Berkeley, California, 94703. Right. Speaker 1: Okay, well I'll get this up to you today. Great, I appreciate that. Well you're welcome. And I appreciate you letting this call be recorded as well. That's fine. Okay, thanks very much. Bye-bye. Goodbye.\""
      ]
     },
     "execution_count": 26,
     "metadata": {},
     "output_type": "execute_result"
    }
   ],
   "source": [
    "final_transcript"
   ]
  },
  {
   "cell_type": "code",
   "execution_count": null,
   "metadata": {},
   "outputs": [],
   "source": [
    "def partition_text(transcript, stop_word_num=180):\n",
    "    # divide the transcript into words\n",
    "    words = transcript.split()\n",
    "\n",
    "    # Create an empty list to store partitioned text, string to store the words before the stop word and a counter\n",
    "    partitioned_text = []\n",
    "    before_stop_word = \"\"\n",
    "    counter = 0\n",
    "    # Iterate over the words in the string\n",
    "    for word in words:\n",
    "        # Check if you've reached the word you want to stop at\n",
    "        if counter == stop_word_num:\n",
    "            if word[-1] != '.':\n",
    "                # After the values is reached append until you reach an end of sentence ('.')\n",
    "                before_stop_word += word + \" \"\n",
    "            else:\n",
    "                before_stop_word += word + \" \"\n",
    "                # and finally, add the whole sentence as an element of the partitioned text list\n",
    "                partitioned_text.append(before_stop_word)\n",
    "                # Reset before_stop_word to an empty string and counter set to 0\n",
    "                before_stop_word = \"\"\n",
    "                counter = 0\n",
    "        else:\n",
    "            # Append the current word to the new string\n",
    "            before_stop_word += word + \" \"\n",
    "            counter = counter + 1\n",
    "    else:\n",
    "        if before_stop_word != '':\n",
    "            # catch the last remaining part of text into another element of the list\n",
    "            partitioned_text.append(before_stop_word)\n",
    "\n",
    "    # print(partitioned_text)\n",
    "    return partitioned_text\n",
    "partition_text = partition_text(final_transcript)\n"
   ]
  },
  {
   "cell_type": "code",
   "execution_count": null,
   "metadata": {},
   "outputs": [
    {
     "data": {
      "text/plain": [
       "[\"Speaker 1: Okay, I was wondering if you could tell me a little bit about the program. What exactly goes on? Speaker 0: Okay, well basically it's an intensive program designed to last four weeks. Each session is four weeks long, although we do have two sessions in 1996 that will be two weeks long. But our general four week session involves seven hours of contact each day of Spanish. It involves starting at nine o'clock in the morning with three hours of grammar instruction. And then it's followed immediately by an hour of group conversation with the same instructor, same class. But we have extensive gardens here at the Institute and so students will usually go out to a garden setting because it's a little more comfortable. And then after a break for lunch, students return and we have a complete flip of instruction in that instead of textbook and clinical type instruction, we have hands on. And we offer workshops in Mehe Backstrap leaving regional cooking of Wahaka at Don Pasnell pottery. And if we have large groups, we also offer folkloric dance. \",\n",
       " \"And those are two hours a day Monday through Thursday. And they're really in place not so much to teach students a craft, but they're in place to facilitate Spanish language acquisition with a hands-on project. It's our belief that using the language will give students an opportunity to have better retention. You say they use it, they feel a little bit more comfortable, the vocabulary expands and whatnot. And then the last hour is a daily intercombo hour and that's where someone from the community in Wahaka comes to the Institute. They work with one of our students, one-on-one as a conversation partner. And if the students here at the Institute were English speaking, English being their native language, then half the time would be in English, half the time would be in Spanish. And we offer included in the course our lectures, weekly lectures, and we have films and other cultural presentations. And all that is included within the same package. We also offer optional tours on the weekends, going to points of interest around Wahaka. Wahaka, I don't know if you're familiar with Wahaka, but it's really rich with archaeological sites and indigenous marketplaces and craft villages. \",\n",
       " \"Speaker 1: There's a lot to see. There's a program geared primarily toward beginning level of that issue. Speaker 0: No, we offer seven different levels ranging from true beginners, people who know absolutely nothing about Spanish all the way up through advanced and literature levels. So we have something for everybody. When you arrive, we would give you a placement test. It's a two-part test. The first part is written and it would test you on present tense, direct and indirect objects, goes all the way up to subjunctive and then you actually do some writing as well. And after an instructor would grade that, then they would speak with you and that would be the second portion of the test. They would ask you a lot of questions about why you're here studying Spanish, where you're from, why are you interested in Spanish in particular as opposed to some other language, have you visited other places within Mexico and whatnot. They're really zeroing in how you use the language when you're speaking. Speaker 1: And that helped them to more fine tune where they place you. \",\n",
       " \"Oh I see. And how many people are in each group? Maximum. Speaker 0: According to our brochures, 10, although we have never had a group of 10, average is more around 6 and it can be lower. Speaker 1: We've had groups of one before. I don't think that's a group. And how long is the program? Speaker 0: It's designed to last four weeks, but students can come by the week if they wish. We advise if they do come by the week that they try to come at the beginning of the session so they don't have instructional gaps. You know, for example, if the class is going on three weeks and then we suddenly have a student arrive at the end of the second or third week, it can be a little bit difficult and that student will enter into a class and spend in session already two or three weeks. We frequently, though, do have students who don't arrive at the beginning because their schedules don't allow them to have conformity to our schedule. And they do it. \",\n",
       " \"I have been a student here several times myself. I'm now the assistant director. And when I first came, I came the last two weeks of the December session and the first two weeks of the January session. And it was doable. It was difficult the last two weeks, but I did it. It was the only time I had to operate with. So it was all right. And then, of course, the January session, when I started with the rest of the group at the beginning of the session, was more easy to feel the flow of the class right away because the ground rules were there. Speaker 1: and for another thing. Uh-huh. And are you commenting on this? Speaker 0: patients there on premises or? No. We offer several options. The vast majority of residents take host family homes as the way to go when they're here in Wahaka. They pay a base price of $11 a day, and that includes a private room and full breakfast. And it may or may not include a private bath. It really depends on each family. \",\n",
       " \"We tell the students that it's not a hotel. It's a home. And the idea isn't so much for luxury. It's more for really communicating with people and getting to know the culture by way of the people. And the vast majority of the homes are upper middle class to lower upper class, the very nice homes and the families that we've worked with for years. If a student wishes other meals with the host family, for an additional $4 a day, the student can have Comita, which is the large midday meal. And you can eat very, very well in Wahaka on $4. But the $4 meal would be primarily for the purposes of interacting with the host family. And then there's the Saina, which is the very light, very late evening meal. That's anywhere between 7, 30, 9 o'clock at night. That's an additional $2. It can be as simple as Pando, Sai, and a cup of hot chocolate. And it's not formal. Speaker 1: I'm formal mail the way that the scene is. Would it be possible to come Speaker 0: may be vegetarian? Oh yeah we do that all the time. \",\n",
       " \"We're very used to it. Especially here in Wahaka, well in Mexico in general with tortillas and beans and all the wealth of fruits and vegetables that would be very simple. If students don't want to home stay and they wish to have alternative accommodations we can help with apartments and hotels and that sort of thing. They would need to send a deposit. But a lot of people when they call us they don't really speak enough. Speaker 1: They don't feel comfortable enough with their Spanish to make reservations. Are there hotels close by? Lots, yeah. Okay. The S is that you offer workshops and cooking as well. And weaving and pottery. And sometimes dance. Vocal or dance. And that's all incorporated into the program. Uh-huh. I see. And so, say I wanted to enroll in the beginning program. That would also be for six weeks, did you say? No four weeks. Four weeks, I say. Could you give me some ideas? Speaker 0: to what the price might be? Okay, the price is a $1-$50 registration fee and $400 for the session or $100 by the Speaker 1: a week or 100 by week. \",\n",
       " \"And do you have any more printed information on? We have a brochure. Speaker 0: Sure. Would it be possible to attend me one? Sure will. Speaker 1: Let me grab a piece of paper, hold on just one moment. Okay. Okay, my name is Richard Gannis. Good. You just got your last name? Yeah, it's G-A-N-I-S. Speaker 0: G-A-N-I-S. Right. Okay. I thought I heard an F. Speaker 1: there. Okay. Uh-huh. And my address is 16-02-HERSC Avenue H-E-A-R-S-P. HERSC Avenue in Berkeley, California. Speaker 0: I can't believe it's my grandmother lived on her stavino for years. Speaker 1: Oh really? There's now a park there, a long, long park they've been demolished. Yeah, a lovely park right there. Demolished. Her house which is too bad. Which is it? And it's 9-4-703. Okay. Yeah, I've been rid of the question of the park there. Speaker 0: Yeah, there was a railroad tracks or something that were there and I remember playing there when we visited it a couple of times when I was a child that went back for the first time in years, just about two years ago and was done to see that the house was Speaker 1: Completely gone and there was a park in this place. \",\n",
       " \"It's like a dog park now. They let the dogs run there. Yeah. Speaker 0: I'm going to repeat this address back to make sure that I've got it right. Okay. I've got Richard Gannis, GANIS, 1602 Hurst Avenue, AGEARST, Berkeley, California, 94703. Right. Speaker 1: Okay, well I'll get this up to you today. Great, I appreciate that. Well you're welcome. And I appreciate you letting this call be recorded as well. That's fine. Okay, thanks very much. Bye-bye. Goodbye. \"]"
      ]
     },
     "execution_count": 28,
     "metadata": {},
     "output_type": "execute_result"
    }
   ],
   "source": [
    "partition_text"
   ]
  },
  {
   "cell_type": "code",
   "execution_count": null,
   "metadata": {},
   "outputs": [],
   "source": [
    "final_input = \"\"\n",
    "for sentence in partition_text:\n",
    "    final_input = final_input + sentence"
   ]
  },
  {
   "cell_type": "code",
   "execution_count": null,
   "metadata": {},
   "outputs": [],
   "source": [
    "import openai\n",
    "import os\n",
    "\n",
    "#This code is designed to generate summaries for the input text partitions using the OpenAI GPT-3 model.\n",
    "# The function divides the input text into partitions and generates summaries for each partition, combining them into a final summary. \n",
    "def request_summary(input_text, temperature=0.1, max_tokens=768):\n",
    "    openai.api_key = \"OPENAIKEY\"\n",
    "    summary = \"\"\n",
    "    for text_partition in input_text:\n",
    "        if text_partition != '':\n",
    "            response = openai.Completion.create(\n",
    "                max_tokens=max_tokens,\n",
    "                model=\"text-curie-001\",\n",
    "                prompt=summarize_prompt(text_partition),\n",
    "                temperature=temperature,\n",
    "            )\n",
    "            summary = summary + str(response.choices[0].text)\n",
    "    return summary\n",
    "\n",
    "\n",
    "def request_actionitems(input_text, temperature=0.1, max_tokens=768):\n",
    "    openai.api_key = \"OPENAIKEY\"\n",
    "    summary = \"\"\n",
    "    for text_partition in input_text:\n",
    "        if text_partition != '':\n",
    "            response = openai.Completion.create(\n",
    "                max_tokens=max_tokens,\n",
    "                model=\"text-curie-001\",\n",
    "                prompt=actionitems_prompt(text_partition),\n",
    "                temperature=temperature,\n",
    "            )\n",
    "            summary = summary + str(response.choices[0].text)\n",
    "    return summary\n",
    "\n",
    "\n",
    "# GPT3 methods\n",
    "def actionitems_prompt(prompt):\n",
    "    return \"\"\"Could you give the action items from this meeting transcript if any ?\n",
    "    \\\"{}\\\"\"\"\".format(prompt)\n",
    "\n",
    "def action_item_prompt(prompt):\n",
    "    return \"\"\"give me precisely the action points in this meeting? in as few lines as possible. \n",
    "    \\\"{}\\\"\"\"\".format(prompt)\n",
    "\n",
    "\n",
    "# GPT3 methods\n",
    "def summarize_prompt(prompt):\n",
    "    return \"\"\"Could you precisely get the summary of this meeting? in less than 10 points. \n",
    "    \\\"{}\\\"\"\"\".format(prompt)\n",
    "\n",
    "\n",
    "def reformat_prompt(prompt):\n",
    "    return \"\"\"Could you reformat this text? \n",
    "    \\\"{}\\\"\"\"\".format(prompt)\n",
    "# Now we need to make another function Request_acitems:  and another function insights_promt: for generating insights ..."
   ]
  },
  {
   "cell_type": "code",
   "execution_count": null,
   "metadata": {},
   "outputs": [],
   "source": [
    "summary = request_summary(partition_text)\n"
   ]
  },
  {
   "cell_type": "code",
   "execution_count": null,
   "metadata": {},
   "outputs": [
    {
     "data": {
      "text/plain": [
       "'\\n\\n-Grammar instruction \\n-Group conversation \\n-Hands on instruction \\n-Workshops\\n\\n-Create a Spanish language learning environment that is hands-on and engaging \\n-Offer weekly lectures and cultural presentations \\n-Provide optional tours to cultural attractions around Wahaka\\n\\n-Give a placement test \\n-Talk to the student after the placement test \\n-Grade the placement test\\n\\n-Assignments for each group \\n-Instructions for students who do not arrive at the beginning of the session \\n-Schedule for the program\\n\\n-Speaker 1: \"And for another thing. Uh-huh. And are you commenting on this?\"\\n-Speaker 0: \"We offer several options. The vast majority of residents take host family homes as the way to go when they\\'re here in Wahaka. They pay a base price of $11 a day, and that includes a private room and full breakfast. And it may or may not include a private bath. It really depends on each family.\"\\n\\n-To communicate with the students, the staff should be available to answer any questions the students may have.\\n-To get to know the culture, the staff should take the students on cultural tours and have them eat meals with the host families.\\n-The staff should also provide the students with information about Wahaka and the cost of meals.\\n\\n- Offer workshops and cooking as well\\n- Offer apartments and hotels\\n- Offer registration fee of $1-$50 or $100 by week\\n\\n-Attend Richard Gannis one time to get a brochure\\n-Check Richard Gannis\\' address and see if it\\'s still there\\n-Check the history of the park near Richard Gannis\\' house\\n\\n-Contact Richard Gannis to set up a meeting\\n-Contact the city of Berkeley to find out what permits are needed to allow dogs at the park'"
      ]
     },
     "execution_count": 38,
     "metadata": {},
     "output_type": "execute_result"
    }
   ],
   "source": [
    "actions_items = request_actionitems(partition_text)\n",
    "actions_items"
   ]
  },
  {
   "cell_type": "code",
   "execution_count": null,
   "metadata": {},
   "outputs": [
    {
     "data": {
      "text/plain": [
       "(2304, 2985, 8923)"
      ]
     },
     "execution_count": 33,
     "metadata": {},
     "output_type": "execute_result"
    }
   ],
   "source": [
    "len(summary), len(actions_items), len(final_input)"
   ]
  },
  {
   "cell_type": "code",
   "execution_count": null,
   "metadata": {},
   "outputs": [
    {
     "data": {
      "text/plain": [
       "\"\\n\\nThe speaker is discussing the program at the Institute of Spanish Language and Culture. The program is designed to last four weeks and involves seven hours of contact each day. The program begins with three hours of grammar instruction and then students have an hour of group conversation with the same instructor. After lunch, the program switches to hands on instruction with workshops in Mehe Backstrap and folkloric dance.\\n\\nThe summary of this meeting is that the students are learning a craft and Spanish language acquisition is facilitated with a hands-on project. The last hour is an intercombo hour where a student from the community in Wahaka comes to the Institute to work with one of the students.\\n\\nThe speaker are discussing the placement test that new students will take upon arrival. The test is designed to place students into one of seven levels of Spanish proficiency. The first part of the test is written, and the second part is a conversation with an instructor.\\n\\nThe meeting discussed the maximum number of students in each group, the length of the program, and the difficulties of accommodating students who arrive late.\\n\\nThe assistant director of the nursing program at Wahaka Community College said that when she first came to the school, the last two weeks of the December session and the first two weeks of the January session were difficult because she had to operate with a small group. However, she said the January session was easier because the ground rules were in place. The assistant director also said that the majority of residents take host family homes as the way to go when they're here in Wahaka. They pay a base price of $11 a day, and that includes a private room and full breakfast.\\n\\nThe students will stay in private homes, and the hosts will provide them with food and cultural experiences. The hosts will also charge students $4 per day for Comita, the large midday meal, and $2 per night for Saina, the late evening meal.\\n\\nThe meeting discussed the Wahaka Language Immersion Program, which offers classes in Spanish and Native American culture. The program costs $1-$50 registration fee and $400 for the session or $100 by the week.\\n\\nThe meeting was to discuss the possibility of a speaker for a rally to be held in support of the Deferred Action for Childhood Arrivals program. The speaker's name is Richard Gannis, and their address is 16-02-HERSC Avenue H-E-A-R-S-P. The park that used to be there is now gone, and the house where the speaker's grandmother lived is now gone.\\n\\nThe meeting discussed how the city has changed since the dogs were allowed to run freely in the park.\""
      ]
     },
     "execution_count": 39,
     "metadata": {},
     "output_type": "execute_result"
    }
   ],
   "source": [
    "summary"
   ]
  },
  {
   "cell_type": "code",
   "execution_count": null,
   "metadata": {},
   "outputs": [
    {
     "data": {
      "text/plain": [
       "\"Speaker 1: Okay, I was wondering if you could tell me a little bit about the program. What exactly goes on? Speaker 0: Okay, well basically it's an intensive program designed to last four weeks. Each session is four weeks long, although we do have two sessions in 1996 that will be two weeks long. But our general four week session involves seven hours of contact each day of Spanish. It involves starting at nine o'clock in the morning with three hours of grammar instruction. And then it's followed immediately by an hour of group conversation with the same instructor, same class. But we have extensive gardens here at the Institute and so students will usually go out to a garden setting because it's a little more comfortable. And then after a break for lunch, students return and we have a complete flip of instruction in that instead of textbook and clinical type instruction, we have hands on. And we offer workshops in Mehe Backstrap leaving regional cooking of Wahaka at Don Pasnell pottery. And if we have large groups, we also offer folkloric dance. And those are two hours a day Monday through Thursday. And they're really in place not so much to teach students a craft, but they're in place to facilitate Spanish language acquisition with a hands-on project. It's our belief that using the language will give students an opportunity to have better retention. You say they use it, they feel a little bit more comfortable, the vocabulary expands and whatnot. And then the last hour is a daily intercombo hour and that's where someone from the community in Wahaka comes to the Institute. They work with one of our students, one-on-one as a conversation partner. And if the students here at the Institute were English speaking, English being their native language, then half the time would be in English, half the time would be in Spanish. And we offer included in the course our lectures, weekly lectures, and we have films and other cultural presentations. And all that is included within the same package. We also offer optional tours on the weekends, going to points of interest around Wahaka. Wahaka, I don't know if you're familiar with Wahaka, but it's really rich with archaeological sites and indigenous marketplaces and craft villages. Speaker 1: There's a lot to see. There's a program geared primarily toward beginning level of that issue. Speaker 0: No, we offer seven different levels ranging from true beginners, people who know absolutely nothing about Spanish all the way up through advanced and literature levels. So we have something for everybody. When you arrive, we would give you a placement test. It's a two-part test. The first part is written and it would test you on present tense, direct and indirect objects, goes all the way up to subjunctive and then you actually do some writing as well. And after an instructor would grade that, then they would speak with you and that would be the second portion of the test. They would ask you a lot of questions about why you're here studying Spanish, where you're from, why are you interested in Spanish in particular as opposed to some other language, have you visited other places within Mexico and whatnot. They're really zeroing in how you use the language when you're speaking. Speaker 1: And that helped them to more fine tune where they place you. Oh I see. And how many people are in each group? Maximum. Speaker 0: According to our brochures, 10, although we have never had a group of 10, average is more around 6 and it can be lower. Speaker 1: We've had groups of one before. I don't think that's a group. And how long is the program? Speaker 0: It's designed to last four weeks, but students can come by the week if they wish. We advise if they do come by the week that they try to come at the beginning of the session so they don't have instructional gaps. You know, for example, if the class is going on three weeks and then we suddenly have a student arrive at the end of the second or third week, it can be a little bit difficult and that student will enter into a class and spend in session already two or three weeks. We frequently, though, do have students who don't arrive at the beginning because their schedules don't allow them to have conformity to our schedule. And they do it. I have been a student here several times myself. I'm now the assistant director. And when I first came, I came the last two weeks of the December session and the first two weeks of the January session. And it was doable. It was difficult the last two weeks, but I did it. It was the only time I had to operate with. So it was all right. And then, of course, the January session, when I started with the rest of the group at the beginning of the session, was more easy to feel the flow of the class right away because the ground rules were there. Speaker 1: and for another thing. Uh-huh. And are you commenting on this? Speaker 0: patients there on premises or? No. We offer several options. The vast majority of residents take host family homes as the way to go when they're here in Wahaka. They pay a base price of $11 a day, and that includes a private room and full breakfast. And it may or may not include a private bath. It really depends on each family. We tell the students that it's not a hotel. It's a home. And the idea isn't so much for luxury. It's more for really communicating with people and getting to know the culture by way of the people. And the vast majority of the homes are upper middle class to lower upper class, the very nice homes and the families that we've worked with for years. If a student wishes other meals with the host family, for an additional $4 a day, the student can have Comita, which is the large midday meal. And you can eat very, very well in Wahaka on $4. But the $4 meal would be primarily for the purposes of interacting with the host family. And then there's the Saina, which is the very light, very late evening meal. That's anywhere between 7, 30, 9 o'clock at night. That's an additional $2. It can be as simple as Pando, Sai, and a cup of hot chocolate. And it's not formal. Speaker 1: I'm formal mail the way that the scene is. Would it be possible to come Speaker 0: may be vegetarian? Oh yeah we do that all the time. We're very used to it. Especially here in Wahaka, well in Mexico in general with tortillas and beans and all the wealth of fruits and vegetables that would be very simple. If students don't want to home stay and they wish to have alternative accommodations we can help with apartments and hotels and that sort of thing. They would need to send a deposit. But a lot of people when they call us they don't really speak enough. Speaker 1: They don't feel comfortable enough with their Spanish to make reservations. Are there hotels close by? Lots, yeah. Okay. The S is that you offer workshops and cooking as well. And weaving and pottery. And sometimes dance. Vocal or dance. And that's all incorporated into the program. Uh-huh. I see. And so, say I wanted to enroll in the beginning program. That would also be for six weeks, did you say? No four weeks. Four weeks, I say. Could you give me some ideas? Speaker 0: to what the price might be? Okay, the price is a $1-$50 registration fee and $400 for the session or $100 by the Speaker 1: a week or 100 by week. And do you have any more printed information on? We have a brochure. Speaker 0: Sure. Would it be possible to attend me one? Sure will. Speaker 1: Let me grab a piece of paper, hold on just one moment. Okay. Okay, my name is Richard Gannis. Good. You just got your last name? Yeah, it's G-A-N-I-S. Speaker 0: G-A-N-I-S. Right. Okay. I thought I heard an F. Speaker 1: there. Okay. Uh-huh. And my address is 16-02-HERSC Avenue H-E-A-R-S-P. HERSC Avenue in Berkeley, California. Speaker 0: I can't believe it's my grandmother lived on her stavino for years. Speaker 1: Oh really? There's now a park there, a long, long park they've been demolished. Yeah, a lovely park right there. Demolished. Her house which is too bad. Which is it? And it's 9-4-703. Okay. Yeah, I've been rid of the question of the park there. Speaker 0: Yeah, there was a railroad tracks or something that were there and I remember playing there when we visited it a couple of times when I was a child that went back for the first time in years, just about two years ago and was done to see that the house was Speaker 1: Completely gone and there was a park in this place. It's like a dog park now. They let the dogs run there. Yeah. Speaker 0: I'm going to repeat this address back to make sure that I've got it right. Okay. I've got Richard Gannis, GANIS, 1602 Hurst Avenue, AGEARST, Berkeley, California, 94703. Right. Speaker 1: Okay, well I'll get this up to you today. Great, I appreciate that. Well you're welcome. And I appreciate you letting this call be recorded as well. That's fine. Okay, thanks very much. Bye-bye. Goodbye. \""
      ]
     },
     "execution_count": 35,
     "metadata": {},
     "output_type": "execute_result"
    }
   ],
   "source": [
    "final_input"
   ]
  },
  {
   "cell_type": "code",
   "execution_count": null,
   "metadata": {},
   "outputs": [],
   "source": [
    "def generate_html_summary_and_action_items(summary, action_items):\n",
    "    action_items_list = action_items.split('\\n\\n')\n",
    "    action_items_html = \"<ul>\\n\"\n",
    "    \n",
    "    for item in action_items_list:\n",
    "        if item.strip():  # Exclude empty lines\n",
    "            action_items_html += f\"<li>{item.strip()}</li>\\n\"\n",
    "    \n",
    "    action_items_html += \"</ul>\"\n",
    "\n",
    "    html = f\"\"\"\n",
    "    <html>\n",
    "    <head>\n",
    "        <title>Meeting Summary and Action Items</title>\n",
    "    </head>\n",
    "    <body>\n",
    "        <h2>Meeting Summary</h2>\n",
    "        <p>{summary}</p>\n",
    "        \n",
    "        <h2>Action Items</h2>\n",
    "        {action_items_html}\n",
    "    </body>\n",
    "    </html>\n",
    "    \"\"\"\n",
    "\n",
    "    return html\n",
    "\n",
    "# Test the function\n",
    "html_content = generate_html_summary_and_action_items(summary, actions_items)\n"
   ]
  },
  {
   "cell_type": "code",
   "execution_count": null,
   "metadata": {},
   "outputs": [],
   "source": [
    "# This code sample uses the 'requests' library:\n",
    "# http://docs.python-requests.org\n",
    "import requests\n",
    "from requests.auth import HTTPBasicAuth\n",
    "import json\n",
    "\n",
    "\n",
    "def create_page(html, title):\n",
    "    url = \"https://nihal7676.atlassian.net/wiki/api/v2/pages\" \n",
    "    auth_token = \"AUTHKEY\"\n",
    "    auth = HTTPBasicAuth('puramnihal@gmail.com', auth_token)\n",
    "\n",
    "    headers = {\n",
    "        \"Accept\": \"application/json\",\n",
    "        \"Content-Type\": \"application/json\"\n",
    "    }\n",
    "\n",
    "    page_html = html\n",
    "\n",
    "    payload = json.dumps({\n",
    "        \"spaceId\": \"1769475\",\n",
    "        \"status\": \"current\",\n",
    "        \"title\": title,\n",
    "        \"parentId\": \"1769705\",\n",
    "        \"body\": {\n",
    "            \"representation\": \"storage\",\n",
    "            \"value\": page_html,\n",
    "        }\n",
    "    })\n",
    "\n",
    "    response = requests.request(\n",
    "        \"POST\",\n",
    "        url,\n",
    "        data=payload,\n",
    "        headers=headers,\n",
    "        auth=auth\n",
    "    )       \n",
    "\n",
    "    print(json.dumps(json.loads(response.text),\n",
    "        sort_keys=True, indent=4, separators=(\",\", \": \")))\n"
   ]
  },
  {
   "cell_type": "code",
   "execution_count": null,
   "metadata": {},
   "outputs": [
    {
     "name": "stdout",
     "output_type": "stream",
     "text": [
      "{\n",
      "    \"_links\": {\n",
      "        \"editui\": \"/pages/resumedraft.action?draftId=2424865\",\n",
      "        \"tinyui\": \"/x/IQAl\",\n",
      "        \"webui\": \"/spaces/aws/pages/2424865/Meeting+Summary\"\n",
      "    },\n",
      "    \"authorId\": \"712020:1db39195-fe1d-4c90-9a5c-a94187512f5e\",\n",
      "    \"body\": {\n",
      "        \"storage\": {\n",
      "            \"representation\": \"storage\",\n",
      "            \"value\": \"\\n    \\n        <h2>Meeting Summary</h2>\\n        <p>\\n\\nThe speaker is discussing the program at the Institute of Spanish Language and Culture. The program is designed to last four weeks and involves seven hours of contact each day. The program begins with three hours of grammar instruction and then students have an hour of group conversation with the same instructor. After lunch, the program switches to hands on instruction with workshops in Mehe Backstrap and folkloric dance.\\n\\nThe summary of this meeting is that the students are learning a craft and Spanish language acquisition is facilitated with a hands-on project. The last hour is an intercombo hour where a student from the community in Wahaka comes to the Institute to work with one of the students.\\n\\nThe speaker are discussing the placement test that new students will take upon arrival. The test is designed to place students into one of seven levels of Spanish proficiency. The first part of the test is written, and the second part is a conversation with an instructor.\\n\\nThe meeting discussed the maximum number of students in each group, the length of the program, and the difficulties of accommodating students who arrive late.\\n\\nThe assistant director of the nursing program at Wahaka Community College said that when she first came to the school, the last two weeks of the December session and the first two weeks of the January session were difficult because she had to operate with a small group. However, she said the January session was easier because the ground rules were in place. The assistant director also said that the majority of residents take host family homes as the way to go when they're here in Wahaka. They pay a base price of $11 a day, and that includes a private room and full breakfast.\\n\\nThe students will stay in private homes, and the hosts will provide them with food and cultural experiences. The hosts will also charge students $4 per day for Comita, the large midday meal, and $2 per night for Saina, the late evening meal.\\n\\nThe meeting discussed the Wahaka Language Immersion Program, which offers classes in Spanish and Native American culture. The program costs $1-$50 registration fee and $400 for the session or $100 by the week.\\n\\nThe meeting was to discuss the possibility of a speaker for a rally to be held in support of the Deferred Action for Childhood Arrivals program. The speaker's name is Richard Gannis, and their address is 16-02-HERSC Avenue H-E-A-R-S-P. The park that used to be there is now gone, and the house where the speaker's grandmother lived is now gone.\\n\\nThe meeting discussed how the city has changed since the dogs were allowed to run freely in the park.</p>\\n        \\n        <h2>Action Items</h2>\\n        <ul>\\n<li>-Grammar instruction \\n-Group conversation \\n-Hands on instruction \\n-Workshops</li>\\n<li>-Create a Spanish language learning environment that is hands-on and engaging \\n-Offer weekly lectures and cultural presentations \\n-Provide optional tours to cultural attractions around Wahaka</li>\\n<li>-Give a placement test \\n-Talk to the student after the placement test \\n-Grade the placement test</li>\\n<li>-Assignments for each group \\n-Instructions for students who do not arrive at the beginning of the session \\n-Schedule for the program</li>\\n<li>-Speaker 1: &quot;And for another thing. Uh-huh. And are you commenting on this?&quot;\\n-Speaker 0: &quot;We offer several options. The vast majority of residents take host family homes as the way to go when they're here in Wahaka. They pay a base price of $11 a day, and that includes a private room and full breakfast. And it may or may not include a private bath. It really depends on each family.&quot;</li>\\n<li>-To communicate with the students, the staff should be available to answer any questions the students may have.\\n-To get to know the culture, the staff should take the students on cultural tours and have them eat meals with the host families.\\n-The staff should also provide the students with information about Wahaka and the cost of meals.</li>\\n<li>- Offer workshops and cooking as well\\n- Offer apartments and hotels\\n- Offer registration fee of $1-$50 or $100 by week</li>\\n<li>-Attend Richard Gannis one time to get a brochure\\n-Check Richard Gannis' address and see if it's still there\\n-Check the history of the park near Richard Gannis' house</li>\\n<li>-Contact Richard Gannis to set up a meeting\\n-Contact the city of Berkeley to find out what permits are needed to allow dogs at the park</li>\\n</ul>\\n    \\n    \"\n",
      "        }\n",
      "    },\n",
      "    \"createdAt\": \"2023-10-23T22:08:53.339Z\",\n",
      "    \"id\": \"2424865\",\n",
      "    \"parentId\": \"1769705\",\n",
      "    \"parentType\": \"page\",\n",
      "    \"position\": 3344,\n",
      "    \"spaceId\": \"1769475\",\n",
      "    \"status\": \"current\",\n",
      "    \"title\": \"Meeting Summary\",\n",
      "    \"version\": {\n",
      "        \"authorId\": \"712020:1db39195-fe1d-4c90-9a5c-a94187512f5e\",\n",
      "        \"createdAt\": \"2023-10-23T22:08:53.339Z\",\n",
      "        \"message\": \"\",\n",
      "        \"minorEdit\": false,\n",
      "        \"number\": 1\n",
      "    }\n",
      "}\n"
     ]
    }
   ],
   "source": [
    "create_page(html_content, \"Meeting Summary\")"
   ]
  },
  {
   "cell_type": "code",
   "execution_count": null,
   "metadata": {},
   "outputs": [],
   "source": []
  }
 ],
 "metadata": {
  "kernelspec": {
   "display_name": "Python 3",
   "language": "python",
   "name": "python3"
  },
  "language_info": {
   "codemirror_mode": {
    "name": "ipython",
    "version": 3
   },
   "file_extension": ".py",
   "mimetype": "text/x-python",
   "name": "python",
   "nbconvert_exporter": "python",
   "pygments_lexer": "ipython3",
   "version": "3.10.12"
  }
 },
 "nbformat": 4,
 "nbformat_minor": 4
}
